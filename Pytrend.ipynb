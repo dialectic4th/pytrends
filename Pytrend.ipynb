{
 "cells": [
  {
   "cell_type": "code",
   "execution_count": 70,
   "metadata": {},
   "outputs": [],
   "source": [
    "# Pytrends\n",
    "#https://github.com/GeneralMills/pytrends\n",
    "from pytrends.request import TrendReq\n",
    "# hl：言語コード　\n",
    "# https://www.suzukikenichi.com/blog/you-must-definitely-know-gl-parameter-and-hl-parameter/\n",
    "pytrends = TrendReq(hl='ja', tz=-540)\n",
    "\n",
    "\n",
    "kw_list = [\"ワールドカップ\"]"
   ]
  },
  {
   "cell_type": "code",
   "execution_count": 73,
   "metadata": {},
   "outputs": [
    {
     "ename": "TypeError",
     "evalue": "get_historical_interest() got an unexpected keyword argument 'pn'",
     "output_type": "error",
     "traceback": [
      "\u001b[0;31m---------------------------------------------------------------------------\u001b[0m",
      "\u001b[0;31mTypeError\u001b[0m                                 Traceback (most recent call last)",
      "\u001b[0;32m<ipython-input-73-76e6de7ed593>\u001b[0m in \u001b[0;36m<module>\u001b[0;34m\u001b[0m\n\u001b[1;32m      7\u001b[0m     \u001b[0mgprop\u001b[0m\u001b[0;34m=\u001b[0m\u001b[0;34m''\u001b[0m\u001b[0;34m,\u001b[0m \u001b[0;31m#検索方式　例：画像検索\u001b[0m\u001b[0;34m\u001b[0m\u001b[0;34m\u001b[0m\u001b[0m\n\u001b[1;32m      8\u001b[0m     \u001b[0msleep\u001b[0m\u001b[0;34m=\u001b[0m\u001b[0;36m0\u001b[0m \u001b[0;31m#スリープ期間\u001b[0m\u001b[0;34m\u001b[0m\u001b[0;34m\u001b[0m\u001b[0m\n\u001b[0;32m----> 9\u001b[0;31m     \u001b[0;34m,\u001b[0m\u001b[0mpn\u001b[0m\u001b[0;34m=\u001b[0m\u001b[0;34m'p4'\u001b[0m\u001b[0;34m\u001b[0m\u001b[0;34m\u001b[0m\u001b[0m\n\u001b[0m\u001b[1;32m     10\u001b[0m )\n",
      "\u001b[0;31mTypeError\u001b[0m: get_historical_interest() got an unexpected keyword argument 'pn'"
     ]
    }
   ],
   "source": [
    "history = pytrends.get_historical_interest(\n",
    "    kw_list,\n",
    "    year_start=2018, month_start=10, day_start=1, hour_start=0, \n",
    "    year_end=2018, month_end=11, day_end=22, hour_end=0, \n",
    "    cat=0, #カテゴリーを絞れる\n",
    "    geo='JP', \n",
    "    gprop='', #検索方式　例：画像検索\n",
    "    sleep=0 #スリープ期間\n",
    ")\n"
   ]
  },
  {
   "cell_type": "code",
   "execution_count": 72,
   "metadata": {},
   "outputs": [
    {
     "name": "stdout",
     "output_type": "stream",
     "text": [
      "2018-11-18 00:00:00 42\n",
      "2018-11-18 01:00:00 37\n",
      "2018-11-18 02:00:00 31\n",
      "2018-11-18 03:00:00 32\n",
      "2018-11-18 04:00:00 32\n",
      "2018-11-18 05:00:00 38\n",
      "2018-11-18 06:00:00 39\n",
      "2018-11-18 07:00:00 40\n",
      "2018-11-18 08:00:00 38\n",
      "2018-11-18 09:00:00 48\n",
      "2018-11-18 10:00:00 41\n",
      "2018-11-18 11:00:00 58\n",
      "2018-11-18 12:00:00 37\n",
      "2018-11-18 13:00:00 37\n",
      "2018-11-18 14:00:00 39\n",
      "2018-11-18 15:00:00 44\n",
      "2018-11-18 16:00:00 38\n",
      "2018-11-18 17:00:00 35\n",
      "2018-11-18 18:00:00 34\n",
      "2018-11-18 19:00:00 43\n",
      "2018-11-18 20:00:00 35\n",
      "2018-11-18 21:00:00 36\n",
      "2018-11-18 22:00:00 35\n",
      "2018-11-18 23:00:00 33\n"
     ]
    }
   ],
   "source": [
    "i = 0\n",
    "for index, rows in history.iterrows():\n",
    "    if \"2018-11-18\" in str(index) :\n",
    "        print(index,rows[0])\n"
   ]
  },
  {
   "cell_type": "markdown",
   "metadata": {},
   "source": [
    "## 関連キーワード"
   ]
  },
  {
   "cell_type": "code",
   "execution_count": 6,
   "metadata": {},
   "outputs": [],
   "source": [
    "a = pytrends.related_queries()"
   ]
  },
  {
   "cell_type": "code",
   "execution_count": 7,
   "metadata": {},
   "outputs": [
    {
     "data": {
      "text/html": [
       "<div>\n",
       "<style scoped>\n",
       "    .dataframe tbody tr th:only-of-type {\n",
       "        vertical-align: middle;\n",
       "    }\n",
       "\n",
       "    .dataframe tbody tr th {\n",
       "        vertical-align: top;\n",
       "    }\n",
       "\n",
       "    .dataframe thead th {\n",
       "        text-align: right;\n",
       "    }\n",
       "</style>\n",
       "<table border=\"1\" class=\"dataframe\">\n",
       "  <thead>\n",
       "    <tr style=\"text-align: right;\">\n",
       "      <th></th>\n",
       "      <th>query</th>\n",
       "      <th>value</th>\n",
       "    </tr>\n",
       "  </thead>\n",
       "  <tbody>\n",
       "    <tr>\n",
       "      <th>0</th>\n",
       "      <td>ワールド カップ</td>\n",
       "      <td>100</td>\n",
       "    </tr>\n",
       "    <tr>\n",
       "      <th>1</th>\n",
       "      <td>ワールド</td>\n",
       "      <td>100</td>\n",
       "    </tr>\n",
       "    <tr>\n",
       "      <th>2</th>\n",
       "      <td>ラグビー ワールド カップ</td>\n",
       "      <td>34</td>\n",
       "    </tr>\n",
       "    <tr>\n",
       "      <th>3</th>\n",
       "      <td>ラグビー</td>\n",
       "      <td>34</td>\n",
       "    </tr>\n",
       "    <tr>\n",
       "      <th>4</th>\n",
       "      <td>ワールド カップ 2018</td>\n",
       "      <td>21</td>\n",
       "    </tr>\n",
       "  </tbody>\n",
       "</table>\n",
       "</div>"
      ],
      "text/plain": [
       "           query  value\n",
       "0       ワールド カップ    100\n",
       "1           ワールド    100\n",
       "2  ラグビー ワールド カップ     34\n",
       "3           ラグビー     34\n",
       "4  ワールド カップ 2018     21"
      ]
     },
     "execution_count": 7,
     "metadata": {},
     "output_type": "execute_result"
    }
   ],
   "source": [
    "a['ワールドカップ'][\"top\"].head()"
   ]
  },
  {
   "cell_type": "code",
   "execution_count": 8,
   "metadata": {},
   "outputs": [
    {
     "data": {
      "text/html": [
       "<div>\n",
       "<style scoped>\n",
       "    .dataframe tbody tr th:only-of-type {\n",
       "        vertical-align: middle;\n",
       "    }\n",
       "\n",
       "    .dataframe tbody tr th {\n",
       "        vertical-align: top;\n",
       "    }\n",
       "\n",
       "    .dataframe thead th {\n",
       "        text-align: right;\n",
       "    }\n",
       "</style>\n",
       "<table border=\"1\" class=\"dataframe\">\n",
       "  <thead>\n",
       "    <tr style=\"text-align: right;\">\n",
       "      <th></th>\n",
       "      <th>query</th>\n",
       "      <th>value</th>\n",
       "    </tr>\n",
       "  </thead>\n",
       "  <tbody>\n",
       "    <tr>\n",
       "      <th>0</th>\n",
       "      <td>リコー カップ 2018</td>\n",
       "      <td>38900</td>\n",
       "    </tr>\n",
       "    <tr>\n",
       "      <th>1</th>\n",
       "      <td>lpga ツアー チャンピオン シップ リコー カップ</td>\n",
       "      <td>12700</td>\n",
       "    </tr>\n",
       "    <tr>\n",
       "      <th>2</th>\n",
       "      <td>女子 ゴルフ リコー カップ</td>\n",
       "      <td>11100</td>\n",
       "    </tr>\n",
       "    <tr>\n",
       "      <th>3</th>\n",
       "      <td>リコー カップ</td>\n",
       "      <td>6700</td>\n",
       "    </tr>\n",
       "    <tr>\n",
       "      <th>4</th>\n",
       "      <td>森崎 嘉 之</td>\n",
       "      <td>6300</td>\n",
       "    </tr>\n",
       "  </tbody>\n",
       "</table>\n",
       "</div>"
      ],
      "text/plain": [
       "                         query  value\n",
       "0                 リコー カップ 2018  38900\n",
       "1  lpga ツアー チャンピオン シップ リコー カップ  12700\n",
       "2               女子 ゴルフ リコー カップ  11100\n",
       "3                      リコー カップ   6700\n",
       "4                       森崎 嘉 之   6300"
      ]
     },
     "execution_count": 8,
     "metadata": {},
     "output_type": "execute_result"
    }
   ],
   "source": [
    "a['ワールドカップ'][\"rising\"].head()"
   ]
  },
  {
   "cell_type": "code",
   "execution_count": 13,
   "metadata": {},
   "outputs": [
    {
     "data": {
      "text/html": [
       "<div>\n",
       "<style scoped>\n",
       "    .dataframe tbody tr th:only-of-type {\n",
       "        vertical-align: middle;\n",
       "    }\n",
       "\n",
       "    .dataframe tbody tr th {\n",
       "        vertical-align: top;\n",
       "    }\n",
       "\n",
       "    .dataframe thead th {\n",
       "        text-align: right;\n",
       "    }\n",
       "</style>\n",
       "<table border=\"1\" class=\"dataframe\">\n",
       "  <thead>\n",
       "    <tr style=\"text-align: right;\">\n",
       "      <th></th>\n",
       "      <th>ワールドカップ</th>\n",
       "    </tr>\n",
       "    <tr>\n",
       "      <th>geoName</th>\n",
       "      <th></th>\n",
       "    </tr>\n",
       "  </thead>\n",
       "  <tbody>\n",
       "    <tr>\n",
       "      <th>三重県</th>\n",
       "      <td>26</td>\n",
       "    </tr>\n",
       "    <tr>\n",
       "      <th>京都府</th>\n",
       "      <td>31</td>\n",
       "    </tr>\n",
       "    <tr>\n",
       "      <th>佐賀県</th>\n",
       "      <td>24</td>\n",
       "    </tr>\n",
       "    <tr>\n",
       "      <th>兵庫県</th>\n",
       "      <td>32</td>\n",
       "    </tr>\n",
       "    <tr>\n",
       "      <th>北海道</th>\n",
       "      <td>37</td>\n",
       "    </tr>\n",
       "  </tbody>\n",
       "</table>\n",
       "</div>"
      ],
      "text/plain": [
       "         ワールドカップ\n",
       "geoName         \n",
       "三重県           26\n",
       "京都府           31\n",
       "佐賀県           24\n",
       "兵庫県           32\n",
       "北海道           37"
      ]
     },
     "execution_count": 13,
     "metadata": {},
     "output_type": "execute_result"
    }
   ],
   "source": [
    "#都道府県別\n",
    "pytrends.interest_by_region().head()"
   ]
  },
  {
   "cell_type": "code",
   "execution_count": 12,
   "metadata": {},
   "outputs": [
    {
     "data": {
      "text/plain": [
       "[{'mid': '/m/06qjc4', 'title': '2018 ワールドカップ', 'type': 'トピック'},\n",
       " {'mid': '/m/030q7', 'title': 'ワールドカップ', 'type': 'サッカーの競技会'},\n",
       " {'mid': '/m/030791', 'title': '2014 FIFAワールドカップ', 'type': 'トピック'},\n",
       " {'mid': '/m/0fp_8fm', 'title': '2022 FIFAワールドカップ', 'type': 'トピック'},\n",
       " {'mid': '/m/016h2b', 'title': '2010 FIFAワールドカップ', 'type': 'トピック'}]"
      ]
     },
     "execution_count": 12,
     "metadata": {},
     "output_type": "execute_result"
    }
   ],
   "source": [
    "# mid クエリのID\n",
    "suggestions_dict = pytrends.suggestions(keyword='ワールドカップ')\n",
    "suggestions_dict"
   ]
  }
 ],
 "metadata": {
  "kernelspec": {
   "display_name": "Python 3",
   "language": "python",
   "name": "python3"
  },
  "language_info": {
   "codemirror_mode": {
    "name": "ipython",
    "version": 3
   },
   "file_extension": ".py",
   "mimetype": "text/x-python",
   "name": "python",
   "nbconvert_exporter": "python",
   "pygments_lexer": "ipython3",
   "version": "3.7.1"
  }
 },
 "nbformat": 4,
 "nbformat_minor": 2
}
